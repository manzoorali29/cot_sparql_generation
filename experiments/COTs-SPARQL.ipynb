{
 "cells": [
  {
   "cell_type": "code",
   "execution_count": 1,
   "id": "186622f4-41f3-4859-8ee8-b7728270b89a",
   "metadata": {
    "tags": []
   },
   "outputs": [],
   "source": [
    "import os\n",
    "import openai\n",
    "\n",
    "openai.api_key = \"\""
   ]
  },
  {
   "cell_type": "code",
   "execution_count": 11,
   "id": "76569e15-0e44-49e1-8228-2fe45f28921e",
   "metadata": {
    "tags": []
   },
   "outputs": [],
   "source": [
    "prompt= \"\"\"\n",
    "Generate a SPARQL query that can be used to retrieve information from DBpedia. \\n\n",
    "For thhe input is a natural question <Question> that asks about some entity, property, or relation in DBpedia. \\n\n",
    "Here are some examples that shows you how to generate sparql correctlz. \n",
    "\n",
    "<Examples>\n",
    "\"\"\"\n"
   ]
  },
  {
   "cell_type": "code",
   "execution_count": 16,
   "id": "110f232e-bdf5-45e7-a38f-ec2d02fcbda4",
   "metadata": {
    "tags": []
   },
   "outputs": [],
   "source": [
    "question= \"Who is the president of Egypt?\"\n",
    "\n",
    "examples= \"(Question: Which famous horserace has seen both Fergie sutherland and the illustrious War of Attrition? , SPARQL = SELECT DISTINCT ?uri WHERE { <http://dbpedia.org/resource/War_Of_Attrition_(horse)> <http://dbpedia.org/property/race> ?uri. <http://dbpedia.org/resource/Fergie_Sutherland> <http://dbpedia.org/property/race> ?uri . })\""
   ]
  },
  {
   "cell_type": "code",
   "execution_count": 17,
   "id": "69b2743e-19d6-48b2-a57a-300bf0984c52",
   "metadata": {
    "tags": []
   },
   "outputs": [],
   "source": [
    "context= prompt+\"\\n\"+examples+\"\\n(Question: \"+question"
   ]
  },
  {
   "cell_type": "code",
   "execution_count": 18,
   "id": "6b9a526b-2828-4914-a92a-336d1624de02",
   "metadata": {
    "tags": []
   },
   "outputs": [],
   "source": [
    "\n",
    "def generate_SPARQL(question): \n",
    "    \n",
    "    evaluation_message=[{\"role\": \"user\", \"content\": context+\", SPARQL = \"}]\n",
    "    response = openai.ChatCompletion.create(\n",
    "    model=\"gpt-4\",\n",
    "    messages = evaluation_message,\n",
    "    temperature=0.0,\n",
    "    max_tokens=100,\n",
    "    frequency_penalty=0.0)\n",
    "\n",
    "    sparql= response[\"choices\"][0]['message']['content']\n",
    "    \n",
    "    return sparql    \n",
    "    "
   ]
  },
  {
   "cell_type": "code",
   "execution_count": 19,
   "id": "2517a01d-ddbf-4282-a790-9c4fe251b0b2",
   "metadata": {
    "tags": []
   },
   "outputs": [
    {
     "data": {
      "text/plain": [
       "'SELECT ?president WHERE { <http://dbpedia.org/resource/Egypt> <http://dbpedia.org/property/president> ?president . })'"
      ]
     },
     "execution_count": 19,
     "metadata": {},
     "output_type": "execute_result"
    }
   ],
   "source": [
    "generate_SPARQL(question)"
   ]
  },
  {
   "cell_type": "code",
   "execution_count": null,
   "id": "cb4de269-ee57-4323-ace8-21f05ed8eff8",
   "metadata": {},
   "outputs": [],
   "source": []
  }
 ],
 "metadata": {
  "kernelspec": {
   "display_name": "COTs",
   "language": "python",
   "name": "cots"
  },
  "language_info": {
   "codemirror_mode": {
    "name": "ipython",
    "version": 3
   },
   "file_extension": ".py",
   "mimetype": "text/x-python",
   "name": "python",
   "nbconvert_exporter": "python",
   "pygments_lexer": "ipython3",
   "version": "3.9.17"
  }
 },
 "nbformat": 4,
 "nbformat_minor": 5
}
