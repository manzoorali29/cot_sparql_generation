{
 "cells": [
  {
   "cell_type": "code",
   "execution_count": 17,
   "id": "602a340f-e63a-4ec7-9c12-de34020392d2",
   "metadata": {
    "tags": []
   },
   "outputs": [],
   "source": [
    "#!pip install transformers\n",
    "#!pip install einops\n",
    "#!pip install accelerate\n",
    "#!pip install xformers"
   ]
  },
  {
   "cell_type": "code",
   "execution_count": 19,
   "id": "d2b85ac8-7265-45e7-8b6b-eeaf4676d117",
   "metadata": {
    "tags": []
   },
   "outputs": [
    {
     "data": {
      "application/vnd.jupyter.widget-view+json": {
       "model_id": "5ecd1171f9664dcab426e108ab6a3fc0",
       "version_major": 2,
       "version_minor": 0
      },
      "text/plain": [
       "Loading checkpoint shards:   0%|          | 0/9 [00:00<?, ?it/s]"
      ]
     },
     "metadata": {},
     "output_type": "display_data"
    }
   ],
   "source": [
    "from transformers import AutoTokenizer, AutoModelForCausalLM\n",
    "import transformers\n",
    "import torch\n",
    "\n",
    "#model = \"tiiuae/falcon-40b\"\n",
    "model = \"tiiuae/falcon-40b\"\n",
    "tokenizer = AutoTokenizer.from_pretrained(model)\n",
    "pipeline = transformers.pipeline(\n",
    "    \"text-generation\",\n",
    "    model=model,\n",
    "    tokenizer=tokenizer,\n",
    "    torch_dtype=torch.bfloat16,\n",
    "    trust_remote_code=True,\n",
    "    device_map=\"auto\",\n",
    ")"
   ]
  },
  {
   "cell_type": "code",
   "execution_count": 20,
   "id": "2a6199d4-a6d7-49b3-8dd8-8d9cb7864909",
   "metadata": {
    "tags": []
   },
   "outputs": [],
   "source": [
    "prompt= \"\"\"\n",
    "Generate a SPARQL query that can be used to retrieve information from DBpedia. \\n\n",
    "For the input is a natural question <Question> that asks about some entity, property, or relation in DBpedia. \\n\n",
    "Here are some examples that shows you how to generate sparql correctly. \n",
    "\n",
    "<Examples>\n",
    "\"\"\"\n",
    "question= \"Who is the president of Egypt?\"\n",
    "\n",
    "examples= \"(Question: Which famous horserace has seen both Fergie sutherland and the illustrious War of Attrition? , SPARQL = SELECT DISTINCT ?uri WHERE { <http://dbpedia.org/resource/War_Of_Attrition_(horse)> <http://dbpedia.org/property/race> ?uri. <http://dbpedia.org/resource/Fergie_Sutherland> <http://dbpedia.org/property/race> ?uri . })\\\"\"\n",
    "context= prompt+\"\\n\"+examples+\"\\n(Question: \"+question"
   ]
  },
  {
   "cell_type": "code",
   "execution_count": 21,
   "id": "5c1eaa89-9d90-4a53-95ef-62f4ccdec03e",
   "metadata": {
    "tags": []
   },
   "outputs": [
    {
     "name": "stderr",
     "output_type": "stream",
     "text": [
      "/upb/users/m/manzoor/profiles/unix/cs/.local/lib/python3.11/site-packages/transformers/generation/utils.py:1270: UserWarning: You have modified the pretrained model configuration to control generation. This is a deprecated strategy to control generation and will be removed soon, in a future version. Please use a generation configuration file (see https://huggingface.co/docs/transformers/main_classes/text_generation )\n",
      "  warnings.warn(\n",
      "Setting `pad_token_id` to `eos_token_id`:11 for open-end generation.\n"
     ]
    },
    {
     "name": "stdout",
     "output_type": "stream",
     "text": [
      "Result: \n",
      "Generate a SPARQL query that can be used to retrieve information from DBpedia. \n",
      "\n",
      "For the input is a natural question <Question> that asks about some entity, property, or relation in DBpedia. \n",
      "\n",
      "Here are some examples that shows you how to generate sparql correctly. \n",
      "\n",
      "<Examples>\n",
      "\n",
      "(Question: Which famous horserace has seen both Fergie sutherland and the illustrious War of Attrition? , SPARQL = SELECT DISTINCT ?uri WHERE { <http://dbpedia.org/resource/War_Of_Attrition_(horse)> <http://dbpedia.org/property/race> ?uri. <http://dbpedia.org/resource/Fergie_Sutherland> <http://dbpedia.org/property/race> ?uri . })\"\n",
      "(Question: Who is the president of Egypt?, SPARQL = SELECT?uri?name WHERE { <http://dbpedia.org/resource/Egypt> <http://dbpedia.org/property/head_of_state>?uri.?uri <http://dbpedia.org/property/name>?name})\n",
      "\n",
      "In the above example, you have the question, SPARQL query and the results.\n",
      "\n",
      "Now, lets try some other questions that you can use to retrieve information from DBpedia.\n",
      "\n",
      "<Questions>\n",
      "\n",
      "</Questions>\n",
      "\n",
      "\n"
     ]
    }
   ],
   "source": [
    "sequences = pipeline(\n",
    "   context,\n",
    "    max_length=500,\n",
    "    do_sample=True,\n",
    "    top_k=10,\n",
    "    num_return_sequences=1,\n",
    "    eos_token_id=tokenizer.eos_token_id,\n",
    ")\n",
    "for seq in sequences:\n",
    "    print(f\"Result: {seq['generated_text']}\")"
   ]
  },
  {
   "cell_type": "code",
   "execution_count": 18,
   "id": "7e6d9489-23f5-4511-87ff-3f44ed114242",
   "metadata": {
    "tags": []
   },
   "outputs": [
    {
     "name": "stdout",
     "output_type": "stream",
     "text": [
      "{'generated_text': '\\nGenerate a SPARQL query that can be used to retrieve information from DBpedia. \\n\\nFor the input is a natural question <Question> that asks about some entity, property, or relation in DBpedia. \\n\\nHere are some examples that shows you how to generate sparql correctly. \\n\\n<Examples>\\n\\n(Question: Which famous horserace has seen both Fergie sutherland and the illustrious War of Attrition? , SPARQL = SELECT DISTINCT ?uri WHERE { <http://dbpedia.org/resource/War_Of_Attrition_(horse)> <http://dbpedia.org/property/race> ?uri. <http://dbpedia.org/resource/Fergie_Sutherland> <http://dbpedia.org/property/race> ?uri . })\"\\n(Question: Who is the president of Egypt?, SPARQL = SELECT DISTINCT?uri WHERE { <http://rdfx.org/rdfx-2011/?p=http://rdfx.org/wiki/2011%20Presidential%20Election%20of%20Egypt&f=&c=&s=&d=&m=&y=&z=&x=&o=&u=&i=&t=&n=&q=&k=&v=&w=&u=&u=&w=&w=&t=0.1&v=0.1&w=&w=&w=&w=&o=&p=&w=&w=&v=&c=&u=&w=&u=&w=&v=&t=&v=&w=&v=&w=&w=&v=&t=&u=&u=&v=&v=&w=&w=&o=&o=&s=&s=&v=&v=&t=&v=&w=&w=&w=&w=&w=&o=&p=&p=&p=&p=&p=&o=&p=&q=&p=&o=&o='}\n"
     ]
    }
   ],
   "source": [
    "for seq in sequences: # 7B 500 Token after proper prompt\n",
    "    print(seq)"
   ]
  },
  {
   "cell_type": "code",
   "execution_count": 5,
   "id": "10621e14-0cf6-488b-a39d-417a7de3cc6b",
   "metadata": {
    "tags": []
   },
   "outputs": [
    {
     "name": "stdout",
     "output_type": "stream",
     "text": [
      "{'generated_text': 'Write a SPARQL code for dbpedia that answer the following question: Who is the president of Egypt? Who is the president of USA? How old was the current president of USA on July 4th 2012? Who is the wife of president of USA?\\n1 Answers\\n1- SELECT?president WHERE (?country <>?country <>) AND?country <>; 2- SELECT?president WHERE (?country <>?country <>) AND (?country <> <>) AND (<> <> \"Barack Obama\"); 3- SELECT?president WHERE (?country <>?country <>) AND (?country <> <>) AND (<> <> \"Barack Obama\") AND (STR(?president) = \"Michelle Obama\"); 4- SELECT?president WHERE (?country <> '}\n"
     ]
    }
   ],
   "source": [
    "for seq in sequences: # 40B 200 Token\n",
    "    print(seq)"
   ]
  },
  {
   "cell_type": "code",
   "execution_count": 12,
   "id": "edeca0f6-a2d6-4989-8923-0568fbee6d2a",
   "metadata": {
    "tags": []
   },
   "outputs": [
    {
     "name": "stdout",
     "output_type": "stream",
     "text": [
      "{'generated_text': 'Write a SPARQL code for dbpedia that answer the following question: Who is the president of Egypt? (The answer could be the name of any person, the name can be found on Wikipedia)\\nFor those who need to use the data, I will provide a.rdf file with the answer of the question.\\nPlease, I would like to have a solution that can be used with any language.\\nThanks.\\nI have found a solution that I have to share.\\nThe question is:\\nHow to use the dbpedia data in SPARQL?\\nThe answer is:\\nSELECT?p WHERE {?p <http:// dbpedia.org/resource/Mubarak>..\\nYou can get the rdf file (the.rdf file has to be located inside the folder dbpedia) with this code:\\n$rdf = readfile(\\'/var/lib/dbpedia/Mubarak.rdf\\');\\nThen you can use this code:\\n$query = \"Select?p where {}\"\\n$result = dbpedia->getQuery($query, $dbpedia, $query->getParams());\\n$p = $result->getResult();\\nThis is a solution that you can use to get the answer of the question (in the rdf file).\\nIf you need the code that I used for reading the rdf file, just send me a private message, and I will be happy to share it.'}\n"
     ]
    }
   ],
   "source": [
    "for seq in sequences: # 7B 500 token without proper prompt\n",
    "    print(seq)"
   ]
  },
  {
   "cell_type": "code",
   "execution_count": null,
   "id": "3c34c268-8d5b-4263-8ee8-c0473b5abb33",
   "metadata": {},
   "outputs": [],
   "source": []
  }
 ],
 "metadata": {
  "kernelspec": {
   "display_name": "Python 3 (ipykernel)",
   "language": "python",
   "name": "python3"
  },
  "language_info": {
   "codemirror_mode": {
    "name": "ipython",
    "version": 3
   },
   "file_extension": ".py",
   "mimetype": "text/x-python",
   "name": "python",
   "nbconvert_exporter": "python",
   "pygments_lexer": "ipython3",
   "version": "3.11.3"
  }
 },
 "nbformat": 4,
 "nbformat_minor": 5
}
